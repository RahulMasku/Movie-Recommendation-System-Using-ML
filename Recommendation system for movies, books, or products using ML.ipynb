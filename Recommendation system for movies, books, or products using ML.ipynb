{
 "cells": [
  {
   "cell_type": "markdown",
   "id": "834e0869",
   "metadata": {},
   "source": [
    "### Movie Recommendation System Using ML "
   ]
  },
  {
   "cell_type": "code",
   "execution_count": 16,
   "id": "5ab6696f",
   "metadata": {},
   "outputs": [
    {
     "name": "stdout",
     "output_type": "stream",
     "text": [
      "   movieId                               title  \\\n",
      "0        1                    Toy Story (1995)   \n",
      "1        2                      Jumanji (1995)   \n",
      "2        3             Grumpier Old Men (1995)   \n",
      "3        4            Waiting to Exhale (1995)   \n",
      "4        5  Father of the Bride Part II (1995)   \n",
      "\n",
      "                                        genres  \n",
      "0  Adventure|Animation|Children|Comedy|Fantasy  \n",
      "1                   Adventure|Children|Fantasy  \n",
      "2                               Comedy|Romance  \n",
      "3                         Comedy|Drama|Romance  \n",
      "4                                       Comedy  \n",
      "   userId  movieId  rating  timestamp\n",
      "0       1        1     4.0  964982703\n",
      "1       1        3     4.0  964981247\n",
      "2       1        6     4.0  964982224\n",
      "3       1       47     5.0  964983815\n",
      "4       1       50     5.0  964982931\n"
     ]
    },
    {
     "data": {
      "image/png": "[encoded data removed]",
      "text/plain": [
       "<Figure size 640x480 with 1 Axes>"
      ]
     },
     "metadata": {},
     "output_type": "display_data"
    },
    {
     "name": "stdout",
     "output_type": "stream",
     "text": [
      "Computing the msd similarity matrix...\n",
      "Done computing similarity matrix.\n",
      "Predicted rating for user 1.0 and movie 1.0: 3.497659566028006\n",
      "Evaluating RMSE, MAE of algorithm SVD on 5 split(s).\n",
      "\n",
      "                  Fold 1  Fold 2  Fold 3  Fold 4  Fold 5  Mean    Std     \n",
      "RMSE (testset)    0.8735  0.8840  0.8830  0.8683  0.8692  0.8756  0.0067  \n",
      "MAE (testset)     0.6698  0.6799  0.6792  0.6670  0.6673  0.6726  0.0057  \n",
      "Fit time          3.08    2.78    2.80    2.81    2.80    2.85    0.11    \n",
      "Test time         0.30    0.56    0.31    0.32    0.52    0.40    0.11    \n",
      "RMSE: 0.8722\n",
      "Top 10 recommendations for user 1.0:\n"
     ]
    }
   ],
   "source": [
    "import pandas as pd\n",
    "from surprise import Dataset, Reader, KNNBasic, SVD, accuracy\n",
    "from surprise.model_selection import cross_validate, train_test_split\n",
    "from collections import defaultdict\n",
    "\n",
    "# Load datasets\n",
    "movies = pd.read_csv(r\"C:\\Users\\LENOVO\\Downloads\\ml-latest-small\\movies.csv\")\n",
    "ratings = pd.read_csv(r\"C:\\Users\\LENOVO\\Downloads\\ml-latest-small\\ratings.csv\")\n",
    "\n",
    "# Merge datasets\n",
    "data = pd.merge(ratings, movies, on='movieId')\n",
    "data.dropna(inplace=True)\n",
    "\n",
    "# Display first few rows of the datasets\n",
    "print(movies.head())\n",
    "print(ratings.head())\n",
    "\n",
    "# Display histogram of ratings\n",
    "data['rating'].hist()\n",
    "plt.show()\n",
    "\n",
    "# Prepare the data for Surprise library\n",
    "reader = Reader(rating_scale=(0.5, 5.0))\n",
    "dataset = Dataset.load_from_df(ratings[['userId', 'movieId', 'rating']], reader)\n",
    "\n",
    "# Split the data into training and test sets\n",
    "trainset, testset = train_test_split(dataset, test_size=0.25)\n",
    "\n",
    "# Define and train the KNNBasic algorithm\n",
    "knn_algo = KNNBasic()\n",
    "knn_algo.fit(trainset)\n",
    "\n",
    "# Predict a rating for a specific user and movie\n",
    "user_id = str(ratings_df.iloc[0]['userId'])  # Example user_id from your dataset\n",
    "movie_id = str(ratings_df.iloc[0]['movieId'])  # Example movie_id from your dataset\n",
    "pred = knn_algo.predict(user_id, movie_id)\n",
    "print(f'Predicted rating for user {user_id} and movie {movie_id}: {pred.est}')\n",
    "\n",
    "# Evaluate the SVD algorithm\n",
    "svd_algo = SVD()\n",
    "cross_validate(svd_algo, dataset, measures=['RMSE', 'MAE'], cv=5, verbose=True)\n",
    "\n",
    "# Train and evaluate the SVD algorithm on the test set\n",
    "svd_algo.fit(trainset)\n",
    "predictions = svd_algo.test(testset)\n",
    "accuracy.rmse(predictions)\n",
    "\n",
    "# Function to get top N recommendations\n",
    "def get_top_n_recommendations(predictions, n=10):\n",
    "    top_n = defaultdict(list)\n",
    "    for uid, iid, true_r, est, _ in predictions:\n",
    "        top_n[uid].append((iid, est))\n",
    "    for uid, user_ratings in top_n.items():\n",
    "        user_ratings.sort(key=lambda x: x[1], reverse=True)\n",
    "        top_n[uid] = user_ratings[:n]\n",
    "    return top_n\n",
    "\n",
    "# Get top 10 recommendations for each user\n",
    "top_n_recommendations = get_top_n_recommendations(predictions, n=10)\n",
    "\n",
    "# Print top 10 recommendations for the first user in the dataset\n",
    "first_user_id = str(ratings_df.iloc[0]['userId'])\n",
    "print(f\"Top 10 recommendations for user {first_user_id}:\")\n",
    "for movie_id, rating in top_n_recommendations[first_user_id]:\n",
    "    movie_title = movies[movies['movieId'] == int(movie_id)]['title'].values[0]\n",
    "    print(f\"Movie: {movie_title}, Predicted Rating: {rating}\")\n"
   ]
  },
  {
   "cell_type": "code",
   "execution_count": null,
   "id": "e22f6d73",
   "metadata": {},
   "outputs": [],
   "source": []
  }
 ],
 "metadata": {
  "kernelspec": {
   "display_name": "Python 3 (ipykernel)",
   "language": "python",
   "name": "python3"
  },
  "language_info": {
   "codemirror_mode": {
    "name": "ipython",
    "version": 3
   },
   "file_extension": ".py",
   "mimetype": "text/x-python",
   "name": "python",
   "nbconvert_exporter": "python",
   "pygments_lexer": "ipython3",
   "version": "3.11.3"
  }
 },
 "nbformat": 4,
 "nbformat_minor": 5
}
